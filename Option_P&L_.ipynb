{
 "cells": [
  {
   "cell_type": "code",
   "execution_count": 1,
   "id": "f14e1a93-7cf0-4e08-b130-8a3f95d3c860",
   "metadata": {},
   "outputs": [],
   "source": [
    "import pandas as pd"
   ]
  },
  {
   "cell_type": "code",
   "execution_count": 2,
   "id": "7b1d1fd8-f6a9-4f52-8ee0-ef28717ac759",
   "metadata": {},
   "outputs": [],
   "source": [
    "def calculate_pnl(entry_price, exit_price, lot_size, option_type):\n",
    "    if option_type == 'call':\n",
    "        return (exit_price - entry_price) * lot_size\n",
    "    elif option_type == 'put':\n",
    "        return (entry_price - exit_price) * lot_size\n",
    "    else:\n",
    "        return 0"
   ]
  },
  {
   "cell_type": "code",
   "execution_count": 3,
   "id": "29786726-fa15-492e-b912-6597eb9e7ee7",
   "metadata": {},
   "outputs": [],
   "source": [
    "def display_pnl(pnl):\n",
    "    if pnl > 0:\n",
    "        print(f\"Profit: ₹{pnl:.2f}\")\n",
    "    elif pnl < 0:\n",
    "        print(f\"Loss: ₹{-pnl:.2f}\")\n",
    "    else:\n",
    "        print(\"No Profit, No Loss\")\n"
   ]
  },
  {
   "cell_type": "code",
   "execution_count": 4,
   "id": "36630dd8-00f0-48f4-a691-637a9d4446db",
   "metadata": {},
   "outputs": [],
   "source": [
    "def main():\n",
    "    option_name = input(\"Enter the name of the option (e.g., NIFTY): \")\n",
    "    lot_size = int(input(\"Enter the lot size: \"))\n",
    "    option_type = input(\"Enter the option type (call/put): \").lower()\n",
    "    entry_price = float(input(\"Enter the entry price: \"))\n",
    "    exit_price = float(input(\"Enter the exit price: \"))\n",
    "    \n",
    "    pnl = calculate_pnl(entry_price, exit_price, lot_size, option_type)\n",
    "\n",
    "    display_pnl(pnl)"
   ]
  },
  {
   "cell_type": "code",
   "execution_count": 5,
   "id": "a4947b61-44a7-4d1c-9758-77516febb4b1",
   "metadata": {},
   "outputs": [
    {
     "name": "stdin",
     "output_type": "stream",
     "text": [
      "Enter the name of the option (e.g., NIFTY):  BANKNIFTY\n",
      "Enter the lot size:  30\n",
      "Enter the option type (call/put):  call\n",
      "Enter the entry price:  230\n",
      "Enter the exit price:  397\n"
     ]
    },
    {
     "name": "stdout",
     "output_type": "stream",
     "text": [
      "Profit: ₹5010.00\n"
     ]
    }
   ],
   "source": [
    "if __name__ == '__main__':\n",
    "    main()"
   ]
  },
  {
   "cell_type": "code",
   "execution_count": null,
   "id": "85795cb3-e12c-434e-ab77-a73eb2890f12",
   "metadata": {},
   "outputs": [],
   "source": []
  },
  {
   "cell_type": "code",
   "execution_count": null,
   "id": "30ca8ae5-7f73-4b75-ae14-8ae0cc3f8b12",
   "metadata": {},
   "outputs": [],
   "source": []
  }
 ],
 "metadata": {
  "kernelspec": {
   "display_name": "Python 3 (ipykernel)",
   "language": "python",
   "name": "python3"
  },
  "language_info": {
   "codemirror_mode": {
    "name": "ipython",
    "version": 3
   },
   "file_extension": ".py",
   "mimetype": "text/x-python",
   "name": "python",
   "nbconvert_exporter": "python",
   "pygments_lexer": "ipython3",
   "version": "3.12.4"
  }
 },
 "nbformat": 4,
 "nbformat_minor": 5
}
